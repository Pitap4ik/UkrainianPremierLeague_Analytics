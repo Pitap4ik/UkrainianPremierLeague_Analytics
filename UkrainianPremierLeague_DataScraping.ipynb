{
  "nbformat": 4,
  "nbformat_minor": 0,
  "metadata": {
    "colab": {
      "provenance": [],
      "authorship_tag": "ABX9TyPKWj7SQwbWijoQzDCy4tcZ",
      "include_colab_link": true
    },
    "kernelspec": {
      "name": "python3",
      "display_name": "Python 3"
    },
    "language_info": {
      "name": "python"
    }
  },
  "cells": [
    {
      "cell_type": "markdown",
      "metadata": {
        "id": "view-in-github",
        "colab_type": "text"
      },
      "source": [
        "<a href=\"https://colab.research.google.com/github/Pitap4ik/UkrainianPremierLeague_Analytics/blob/main/UkrainianPremierLeague_DataScraping.ipynb\" target=\"_parent\"><img src=\"https://colab.research.google.com/assets/colab-badge.svg\" alt=\"Open In Colab\"/></a>"
      ]
    },
    {
      "cell_type": "code",
      "execution_count": null,
      "metadata": {
        "id": "fYEVhp8bbUif"
      },
      "outputs": [],
      "source": [
        "import requests"
      ]
    },
    {
      "cell_type": "code",
      "source": [
        "standings_url = \"https://fbref.com/en/comps/39/Ukrainian-Premier-League-Stats\""
      ],
      "metadata": {
        "id": "8UruEeRdnc9D"
      },
      "execution_count": null,
      "outputs": []
    },
    {
      "cell_type": "code",
      "source": [
        "data=requests.get(standings_url)"
      ],
      "metadata": {
        "id": "8-0682VexX9K"
      },
      "execution_count": 20,
      "outputs": []
    },
    {
      "cell_type": "code",
      "source": [],
      "metadata": {
        "id": "k4gOZE_py43V"
      },
      "execution_count": null,
      "outputs": []
    }
  ]
}