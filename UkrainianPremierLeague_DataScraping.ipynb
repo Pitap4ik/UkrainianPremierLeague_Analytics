{
  "nbformat": 4,
  "nbformat_minor": 0,
  "metadata": {
    "colab": {
      "provenance": [],
      "authorship_tag": "ABX9TyMwc1UMDcjzCE2dWsw2oLNf",
      "include_colab_link": true
    },
    "kernelspec": {
      "name": "python3",
      "display_name": "Python 3"
    },
    "language_info": {
      "name": "python"
    }
  },
  "cells": [
    {
      "cell_type": "markdown",
      "metadata": {
        "id": "view-in-github",
        "colab_type": "text"
      },
      "source": [
        "<a href=\"https://colab.research.google.com/github/Pitap4ik/UkrainianPremierLeague_Analytics/blob/main/UkrainianPremierLeague_DataScraping.ipynb\" target=\"_parent\"><img src=\"https://colab.research.google.com/assets/colab-badge.svg\" alt=\"Open In Colab\"/></a>"
      ]
    },
    {
      "cell_type": "code",
      "execution_count": 77,
      "metadata": {
        "id": "fYEVhp8bbUif"
      },
      "outputs": [],
      "source": [
        "import requests"
      ]
    },
    {
      "cell_type": "code",
      "source": [
        "standings_url = \"https://fbref.com/en/comps/39/Ukrainian-Premier-League-Stats\""
      ],
      "metadata": {
        "id": "8UruEeRdnc9D"
      },
      "execution_count": 78,
      "outputs": []
    },
    {
      "cell_type": "code",
      "source": [
        "data = requests.get(standings_url)"
      ],
      "metadata": {
        "id": "8-0682VexX9K"
      },
      "execution_count": 79,
      "outputs": []
    },
    {
      "cell_type": "code",
      "source": [
        "from bs4 import BeautifulSoup"
      ],
      "metadata": {
        "id": "k4gOZE_py43V"
      },
      "execution_count": 80,
      "outputs": []
    },
    {
      "cell_type": "code",
      "source": [
        "soup = BeautifulSoup(data.text)"
      ],
      "metadata": {
        "id": "az6yC1rVGiiV"
      },
      "execution_count": 81,
      "outputs": []
    },
    {
      "cell_type": "code",
      "source": [
        "standings_table = soup.select('table.stats_table')[0]"
      ],
      "metadata": {
        "id": "nzgiKBeVGpCz",
        "colab": {
          "base_uri": "https://localhost:8080/",
          "height": 139
        },
        "outputId": "85b24dde-bc48-4197-f253-9188f00960c9"
      },
      "execution_count": 82,
      "outputs": [
        {
          "output_type": "error",
          "ename": "IndexError",
          "evalue": "list index out of range",
          "traceback": [
            "\u001b[0;31m---------------------------------------------------------------------------\u001b[0m",
            "\u001b[0;31mIndexError\u001b[0m                                Traceback (most recent call last)",
            "\u001b[0;32m<ipython-input-82-e2b969e51b2c>\u001b[0m in \u001b[0;36m<cell line: 0>\u001b[0;34m()\u001b[0m\n\u001b[0;32m----> 1\u001b[0;31m \u001b[0mstandings_table\u001b[0m \u001b[0;34m=\u001b[0m \u001b[0msoup\u001b[0m\u001b[0;34m.\u001b[0m\u001b[0mselect\u001b[0m\u001b[0;34m(\u001b[0m\u001b[0;34m'table.stats_table'\u001b[0m\u001b[0;34m)\u001b[0m\u001b[0;34m[\u001b[0m\u001b[0;36m0\u001b[0m\u001b[0;34m]\u001b[0m\u001b[0;34m\u001b[0m\u001b[0;34m\u001b[0m\u001b[0m\n\u001b[0m",
            "\u001b[0;31mIndexError\u001b[0m: list index out of range"
          ]
        }
      ]
    },
    {
      "cell_type": "code",
      "source": [
        "links = standings_table.find_all('a')"
      ],
      "metadata": {
        "id": "aT4JATnWK0CB"
      },
      "execution_count": null,
      "outputs": []
    },
    {
      "cell_type": "code",
      "source": [
        "links = [l.get(\"href\") for l in links]"
      ],
      "metadata": {
        "id": "5zB60P5MMI-0"
      },
      "execution_count": null,
      "outputs": []
    },
    {
      "cell_type": "code",
      "source": [
        "links = [l for l in links if 'squads' in l]"
      ],
      "metadata": {
        "id": "C5Tm9IXGMXfn"
      },
      "execution_count": null,
      "outputs": []
    },
    {
      "cell_type": "code",
      "source": [
        "team_urls = [f\"https://Fbref.com{l}\" for l in links]"
      ],
      "metadata": {
        "id": "RyasYhK1NmZ7"
      },
      "execution_count": null,
      "outputs": []
    },
    {
      "cell_type": "code",
      "source": [
        "team_url = team_urls[0]"
      ],
      "metadata": {
        "id": "jc_Mg3jXPweK"
      },
      "execution_count": null,
      "outputs": []
    },
    {
      "cell_type": "code",
      "source": [
        "data=requests.get(team_url)"
      ],
      "metadata": {
        "id": "U3oFHKhgQDVn"
      },
      "execution_count": null,
      "outputs": []
    },
    {
      "cell_type": "code",
      "source": [
        "import pandas as pd\n",
        "from io import StringIO"
      ],
      "metadata": {
        "id": "3lgArKNGQKSw"
      },
      "execution_count": null,
      "outputs": []
    },
    {
      "cell_type": "code",
      "source": [
        "matches = pd.read_html(StringIO(data.text), match=\"Scores & Fixtures\")"
      ],
      "metadata": {
        "id": "949yGjXdQRcC"
      },
      "execution_count": null,
      "outputs": []
    },
    {
      "cell_type": "code",
      "source": [
        "matches[0].head()"
      ],
      "metadata": {
        "id": "MsSNh1qZQyZ1"
      },
      "execution_count": null,
      "outputs": []
    },
    {
      "cell_type": "code",
      "source": [
        "soup=BeautifulSoup(data.text)"
      ],
      "metadata": {
        "id": "FZXeEWwmSPDo"
      },
      "execution_count": null,
      "outputs": []
    },
    {
      "cell_type": "code",
      "source": [
        "links=soup.find_all('a')"
      ],
      "metadata": {
        "id": "Pgjre_qO13Ws"
      },
      "execution_count": null,
      "outputs": []
    },
    {
      "cell_type": "code",
      "source": [
        "links=[l.get(\"href\") for l in links]"
      ],
      "metadata": {
        "id": "Iemw2VAj2QnP"
      },
      "execution_count": null,
      "outputs": []
    },
    {
      "cell_type": "code",
      "source": [
        "links=[l for l in links if l and \"all_comps/shooting/\" in l]"
      ],
      "metadata": {
        "id": "C6ej6ZlE2hCG"
      },
      "execution_count": null,
      "outputs": []
    },
    {
      "cell_type": "code",
      "source": [
        "shooting_url=f\"https://FBref.com{links[0]}\""
      ],
      "metadata": {
        "id": "_T686Tfq2xSh"
      },
      "execution_count": null,
      "outputs": []
    },
    {
      "cell_type": "code",
      "source": [
        "data=requests.get(shooting_url)"
      ],
      "metadata": {
        "id": "Ih5c5ZqE8Pjn"
      },
      "execution_count": null,
      "outputs": []
    },
    {
      "cell_type": "code",
      "source": [
        "shootings =pd.read_html(StringIO(data.text),match = \"Shooting\")"
      ],
      "metadata": {
        "id": "O6GmytbC7D6G"
      },
      "execution_count": null,
      "outputs": []
    },
    {
      "cell_type": "code",
      "source": [
        "shooting = shootings[0]"
      ],
      "metadata": {
        "id": "siQp-x3E9Jof"
      },
      "execution_count": null,
      "outputs": []
    },
    {
      "cell_type": "code",
      "source": [
        "shooting.head()"
      ],
      "metadata": {
        "id": "bCjYZ7dz9QUm"
      },
      "execution_count": null,
      "outputs": []
    },
    {
      "cell_type": "code",
      "source": [
        "shooting.columns = shooting.columns.droplevel()"
      ],
      "metadata": {
        "id": "QxOMg6Mr9SQN"
      },
      "execution_count": null,
      "outputs": []
    },
    {
      "cell_type": "code",
      "source": [
        "shooting.head()"
      ],
      "metadata": {
        "id": "P3Rze8B9-PLM"
      },
      "execution_count": null,
      "outputs": []
    },
    {
      "cell_type": "code",
      "source": [
        "team_data = matches[0].merge(shooting[[\"Date\",\"Sh\",\"SoT\",\"Dist\",\"FK\",\"PK\",\"PKatt\"]], on = \"Date\")"
      ],
      "metadata": {
        "id": "MOG4meJC-gYQ"
      },
      "execution_count": null,
      "outputs": []
    },
    {
      "cell_type": "code",
      "source": [
        "team_data.head()"
      ],
      "metadata": {
        "collapsed": true,
        "id": "CWd0KdbK6GAA"
      },
      "execution_count": null,
      "outputs": []
    },
    {
      "cell_type": "code",
      "source": [
        "years=list(range(2025,2023,-1))"
      ],
      "metadata": {
        "id": "I8SKPt8D6-vX"
      },
      "execution_count": null,
      "outputs": []
    },
    {
      "cell_type": "code",
      "source": [
        "years"
      ],
      "metadata": {
        "id": "VeI6E0FW-Ho2"
      },
      "execution_count": null,
      "outputs": []
    },
    {
      "cell_type": "code",
      "source": [
        "standings_url = \"https://fbref.com/en/comps/39/Ukrainian-Premier-League-Stats\""
      ],
      "metadata": {
        "id": "R_mCLiiy_Epr"
      },
      "execution_count": null,
      "outputs": []
    },
    {
      "cell_type": "code",
      "source": [
        "import time\n",
        "all_matches = []\n",
        "for year in years:\n",
        "\n",
        "  data = requests.get(standings_url)\n",
        "  soup = BeautifulSoup(data.text)\n",
        "  standings_table = soup.select('table.stats_table')[0]\n",
        "\n",
        "  links = [l.get('href') for l in standings_table.find_all('a')]\n",
        "  links = [l for l in links if '/squads/' in l]\n",
        "  team_urls = [f\"https://fbref.com{l}\" for l in links]\n",
        "\n",
        "  previous_season = soup.select(\"a.prev\")[0].get(\"href\")\n",
        "  standings_url = f\"https://fbref.com{previous_season}\"\n",
        "\n",
        "  for team_url in team_urls:\n",
        "    team_name = team_url.split('/')[-1].replace('-Stats','').replace('-',' ')\n",
        "\n",
        "    data = requests.get(team_url)\n",
        "    matches = pd.read_html(StringIO(data.text), match='Scores & Fixtures')[0]\n",
        "\n",
        "    soup = BeautifulSoup(data.text)\n",
        "    links = [l.get('href') for l in soup.find_all('a')]\n",
        "    links = [l for l in links if l and 'all_comps/shooting/' in l]\n",
        "    data = requests.get(f\"https://fbref.com{links[0]}\")\n",
        "    shooting = pd.read_html(StringIO(data.text), match='Shooting')[0]\n",
        "    shooting.columns = shooting.columns.droplevel()\n",
        "\n",
        "    try:\n",
        "      team_data = matches.merge(shooting[['Date', 'Sh', 'SoT', 'Dist', 'PK', 'PKatt']], on='Date')\n",
        "    except ValueError:\n",
        "      continue\n",
        "\n",
        "    team_data = team_data[team_data['Comp'] == 'Premier League']\n",
        "    team_data['Season'] = year\n",
        "    team_data['Team'] = team_name\n",
        "    all_matches.append(team_data)\n",
        "    time.sleep(1)"
      ],
      "metadata": {
        "id": "arNTl_yh-RIH"
      },
      "execution_count": null,
      "outputs": []
    },
    {
      "cell_type": "code",
      "source": [
        "match_df = pd.concat(all_matches)"
      ],
      "metadata": {
        "id": "Ez-dLvihCvcR"
      },
      "execution_count": null,
      "outputs": []
    },
    {
      "cell_type": "code",
      "source": [
        "match_df.to_csv(\"matches.csv\")"
      ],
      "metadata": {
        "id": "FkTY73otthYX"
      },
      "execution_count": null,
      "outputs": []
    }
  ]
}