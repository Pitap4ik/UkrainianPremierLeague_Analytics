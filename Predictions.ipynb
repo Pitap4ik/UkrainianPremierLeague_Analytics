{
  "nbformat": 4,
  "nbformat_minor": 0,
  "metadata": {
    "colab": {
      "provenance": [],
      "authorship_tag": "ABX9TyM/X2btq1N8Cit/S7520jUG",
      "include_colab_link": true
    },
    "kernelspec": {
      "name": "python3",
      "display_name": "Python 3"
    },
    "language_info": {
      "name": "python"
    }
  },
  "cells": [
    {
      "cell_type": "markdown",
      "metadata": {
        "id": "view-in-github",
        "colab_type": "text"
      },
      "source": [
        "<a href=\"https://colab.research.google.com/github/Pitap4ik/UkrainianPremierLeague_Analytics/blob/main/Predictions.ipynb\" target=\"_parent\"><img src=\"https://colab.research.google.com/assets/colab-badge.svg\" alt=\"Open In Colab\"/></a>"
      ]
    },
    {
      "cell_type": "code",
      "execution_count": 10,
      "metadata": {
        "id": "wz7XAVOJBr2B"
      },
      "outputs": [],
      "source": [
        "import pandas as pd"
      ]
    },
    {
      "cell_type": "code",
      "source": [
        "URL_raw = \"https://raw.githubusercontent.com/Pitap4ik/UkrainianPremierLeague_Analytics/refs/heads/main/matches.csv\""
      ],
      "metadata": {
        "id": "9z9I37kKGLGW"
      },
      "execution_count": 11,
      "outputs": []
    },
    {
      "cell_type": "code",
      "source": [
        "matches = pd.read_csv(URL_raw, index_col= 0)"
      ],
      "metadata": {
        "id": "qUdcgIsZBxHc"
      },
      "execution_count": 12,
      "outputs": []
    }
  ]
}